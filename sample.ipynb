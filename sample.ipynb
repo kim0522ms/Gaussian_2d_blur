{
 "cells": [
  {
   "cell_type": "code",
   "execution_count": 29,
   "metadata": {
    "collapsed": true,
    "pycharm": {
     "is_executing": false,
     "name": "#%%\n"
    }
   },
   "outputs": [
    {
     "data": {
      "text/plain": "<matplotlib.image.AxesImage at 0x110722d0>"
     },
     "metadata": {},
     "output_type": "execute_result",
     "execution_count": 29
    },
    {
     "data": {
      "text/plain": "<Figure size 432x288 with 1 Axes>",
      "image/png": "[encoded data removed]"
     },
     "metadata": {
      "needs_background": "light"
     },
     "output_type": "display_data"
    }
   ],
   "source": [
    "import sys\n",
    "import numpy as np\n",
    "import cv2\n",
    "import matplotlib.pyplot as plt\n",
    "from math import exp\n",
    "%matplotlib inline\n",
    "\n",
    "def gaussian_2d_filtering(cv_img, deviation = 0.4):\n",
    "    nHeight, nWidth, nChannel = cv_img.shape\n",
    "    \n",
    "    m_bufGss = [0,0,0,0,0,0,0,0,0,0,0,0,0]\n",
    "    \n",
    "    m_dGaussian = deviation\n",
    "    \n",
    "    nHalf = int(max((m_dGaussian * 6 - 1) / 2, 1))\n",
    "    nWstep = nWidth * nChannel\n",
    "    \n",
    "    pIn = cv_img.flatten()\n",
    "    pTmp = (np.zeros(shape=(nWidth,nHeight,nChannel))).flatten()\n",
    "    pOut = (np.zeros(shape=(nWidth,nHeight,nChannel))).flatten()\n",
    "    \n",
    "    n = 0\n",
    "    while n <= nHalf:\n",
    "      m_bufGss[nHalf - n] = m_bufGss[nHalf + n] = exp((-1 * n) * n / (2 * m_dGaussian*m_dGaussian)) \n",
    "      n += 1 \n",
    "\n",
    "    for r in range(0, nHeight):\n",
    "      for c in range(0, nWidth):\n",
    "        for l in range(0, nChannel):\n",
    "          dSum = dGss = 0\n",
    "    \n",
    "          for n in range(-1 * nHalf, nHalf+1):\n",
    "            px = c + n\n",
    "            \n",
    "            if 0 <= px < nWidth:\n",
    "                dSum += (pIn[nWstep * r + nChannel * px + l] * m_bufGss[nHalf + n])\n",
    "                dGss += m_bufGss[nHalf + n]\n",
    "          \n",
    "          pTmp[nWstep * r + nChannel * c + l] = int(dSum / dGss)\n",
    "    \n",
    "    for r in range(0, nHeight):\n",
    "      for c in range(0, nWidth):\n",
    "        for l in range(0, nChannel):\n",
    "          dSum = dGss = 0\n",
    "    \n",
    "          for n in range(-1 * nHalf, nHalf+1):\n",
    "            py = r + n\n",
    "            if 0 <= py < nHeight:\n",
    "              absN = abs(n)\n",
    "              dSum += (pTmp[nWstep * py + nChannel * c + l] * m_bufGss[nHalf + absN])\n",
    "              dGss += m_bufGss[nHalf + absN]\n",
    "            \n",
    "          pOut[nWstep * r + nChannel * c + l] = int(dSum / dGss)\n",
    "    np.set_printoptions(threshold=sys.maxsize)\n",
    "    \n",
    "    pResult = pOut.reshape(nHeight,nWidth,nChannel)\n",
    "    pResult = pResult.astype('uint8')\n",
    "    \n",
    "    return pResult\n",
    "\n",
    "cv_img = cv2.imread('road.jpg')\n",
    "cv_img = cv2.cvtColor(cv_img, cv2.COLOR_BGR2RGB)\n",
    "\n",
    "# Implemented gaussian blur ( very slow ) \n",
    "pResult = gaussian_2d_filtering(cv_img, 0.8)\n",
    "\n",
    "# OpenCV gaussian blur library ( fast & good )\n",
    "# pResult = cv2.GaussianBlur(cv_img, (5, 5),5)\n",
    "\n",
    "plt.imshow(pResult)"
   ]
  }
 ],
 "metadata": {
  "kernelspec": {
   "display_name": "Python 3",
   "language": "python",
   "name": "python3"
  },
  "language_info": {
   "codemirror_mode": {
    "name": "ipython",
    "version": 2
   },
   "file_extension": ".py",
   "mimetype": "text/x-python",
   "name": "python",
   "nbconvert_exporter": "python",
   "pygments_lexer": "ipython2",
   "version": "2.7.6"
  },
  "pycharm": {
   "stem_cell": {
    "cell_type": "raw",
    "source": [],
    "metadata": {
     "collapsed": false
    }
   }
  }
 },
 "nbformat": 4,
 "nbformat_minor": 0
}